{
 "cells": [
  {
   "cell_type": "markdown",
   "id": "796cd321",
   "metadata": {},
   "source": [
    "Chanakya Maddineni\n",
    "UID: 117999655\n",
    "\n",
    "\n",
    "# Introduction\n",
    "\n",
    "In recent decades, weather patterns around the world have become increasingly and noticeably erratic. Parts of the world are hit with ever worsening floods and other regions experience intense droughts. Agriculture, being an industry inherently tied to the earth and the climate, is heavily impacted by weather patterns. It is growing ever more important to understand the impact that climate has on agriculture. \n",
    "\n",
    "Perhaps the most prominently affected weather phenomena by climate change are temperature, precipitation, and storms. Therefore, this project will focus on average yearly temperature and precipitation, as well as the number of storm events and the amount of agricultural damage they cause. \n",
    "\n",
    "This project will look at the impact climactic conditions have on the total factor productivity index of a state. This index is a measure of the aggregate agirultural output relative to the aggregate inputs. This measure can better control for increases or decreases in crop yield that can be explained by factors outside of climate, such as the usage of better technologies or shifts in labor. "
   ]
  },
  {
   "cell_type": "markdown",
   "id": "b7ffa2d7",
   "metadata": {},
   "source": [
    "## Data Collection\n",
    "\n",
    "There is an abundance of data on precipitation and temperature in the contiguous continental United States. Much of this data, is in a raw form and must be cleaned. Fortunately, the Washington Post has compiled American county-wise averages of average temperature data from 1895 to 2019, as collected from the National Oceanic and Atmospheric Administration's Climate Divisional Database and made it available on their  <a href = \"https://github.com/washingtonpost/data-2C-beyond-the-limit-usa\">Github page</a> in the form of a csv. We will download this dataset. \n",
    "\n",
    "\n",
    "In addition to this, we will also require data on total factor productivity of each state. This data is available in excel sheets from the <a href = \"https://www.ers.usda.gov/data-products/agricultural-productivity-in-the-u-s/agricultural-productivity-in-the-u-s/\"> United States Department of Agriculture's tables on agricultural productivity in the United States</a>."
   ]
  },
  {
   "cell_type": "markdown",
   "id": "2d8c1d16",
   "metadata": {},
   "source": [
    "### Imports\n",
    "\n",
    "After having downloaded the necesary data, we will import all of the necessary libraries and modules we will need for this project."
   ]
  },
  {
   "cell_type": "code",
   "execution_count": 36,
   "id": "160641ec",
   "metadata": {
    "scrolled": false
   },
   "outputs": [],
   "source": [
    "import os\n",
    "import warnings\n",
    "import datetime\n",
    "import numpy as np\n",
    "import pandas as pd\n",
    "import seaborn as sns\n",
    "import matplotlib.pyplot as plt\n",
    "import xarray as xr\n",
    "import statsmodels.formula.api as sm\n",
    "import sklearn"
   ]
  },
  {
   "cell_type": "markdown",
   "id": "759fd0c4",
   "metadata": {},
   "source": [
    "## Data Processing\n",
    "\n",
    "We load in the data on agricultural total factor productivity into a dataframe. Since the data is in a .xls format (an older format of Excel spreadsheets), I first converted this to a .xlsx format (a newer version of excel) by saving it as a .xlsx file. This is not necessary, as the read_csv() function works the same on both formats, but it might make it more convenient if you want to edit the spreadsheet in Microsoft Excel. \n",
    "\n",
    "\n",
    "The csv file for temperature has a column for a five digit value called the fips value. The first two digits of this value represent the state for which the reading takes place, and the last three digits represent the county. While our temperature csv file does not have columns that store the names of the states or counties, there is a second csv file that provides the average temperature change for each county. This table has columns for fips values as well as states and county names. \n",
    "\n",
    "Therefore, we can get the state and county names by merging these two tables together. Since the temperature change csv file contains many columns which we do not require, we can remove those and only keep the ones "
   ]
  },
  {
   "cell_type": "code",
   "execution_count": 13,
   "id": "8c7d4213",
   "metadata": {
    "scrolled": false
   },
   "outputs": [
    {
     "data": {
      "text/plain": [
       "<bound method NDFrame.head of          fips  year       temp         CTYNAME   STNAME\n",
       "65       1001  1960  62.608333  Autauga County  Alabama\n",
       "66       1001  1961  62.591667  Autauga County  Alabama\n",
       "67       1001  1962  63.875000  Autauga County  Alabama\n",
       "68       1001  1963  62.666667  Autauga County  Alabama\n",
       "69       1001  1964  62.875000  Autauga County  Alabama\n",
       "...       ...   ...        ...             ...      ...\n",
       "388370  56045  2015  46.633333   Weston County  Wyoming\n",
       "388371  56045  2016  47.250000   Weston County  Wyoming\n",
       "388372  56045  2017  45.650000   Weston County  Wyoming\n",
       "388373  56045  2018  43.725000   Weston County  Wyoming\n",
       "388374  56045  2019  42.300000   Weston County  Wyoming\n",
       "\n",
       "[186420 rows x 5 columns]>"
      ]
     },
     "metadata": {},
     "output_type": "display_data"
    }
   ],
   "source": [
    "pathc = './Climate/'\n",
    "\n",
    "temp = pd.read_csv(pathc + 'temp_county_year.csv')\n",
    "temp = temp.drop(columns = ['tempc'])\n",
    "\n",
    "# Reads in the temp_change CSV file\n",
    "temp_change = pd.read_csv(pathc + 'temp_change.csv', encoding='latin-1')\n",
    "# Removes all rows except for the fips and county and state names\n",
    "temp_change = temp_change[['fips', 'CTYNAME', 'STNAME']]\n",
    "\n",
    "# Merges the temp_change and temp\n",
    "temp = temp.merge(temp_change, on = ['fips'])\n",
    "\n",
    "# Only include years on or after 1960, since we only have agricultural productivity data for those years.\n",
    "temp = temp[temp['year'] >= 1960]\n",
    "\n",
    "display(temp.head)"
   ]
  },
  {
   "cell_type": "markdown",
   "id": "c5a8141e",
   "metadata": {},
   "source": [
    "Now we read in the dataset of agricultural total factor productivity."
   ]
  },
  {
   "cell_type": "code",
   "execution_count": 5,
   "id": "0e7c2ae9",
   "metadata": {},
   "outputs": [
    {
     "data": {
      "text/plain": [
       "<bound method NDFrame.head of         Year state       tfp\n",
       "2     1960.0    AL  0.659890\n",
       "3     1961.0    AL  0.675506\n",
       "4     1962.0    AL  0.635884\n",
       "5     1963.0    AL  0.707318\n",
       "6     1964.0    AL  0.695243\n",
       "...      ...   ...       ...\n",
       "2251  2000.0    WY  0.568283\n",
       "2252  2001.0    WY  0.597144\n",
       "2253  2002.0    WY  0.538451\n",
       "2254  2003.0    WY  0.582018\n",
       "2255  2004.0    WY  0.571194\n",
       "\n",
       "[2254 rows x 3 columns]>"
      ]
     },
     "metadata": {},
     "output_type": "display_data"
    }
   ],
   "source": [
    "patha = './Agriculture/'\n",
    "agr = pd.read_excel(patha + 'Indices of total factor productivity by State.xlsx')\n",
    "# Creates a list of the blank unnamed columns that are read in from the Excel sheet to be dropped from the dataframe.\n",
    "unnamed = [\"Unnamed: \" + str(i) for i in range(49, 65)]\n",
    "agr = agr.drop(columns = unnamed)\n",
    "agr = agr.melt(id_vars = ['Year'], var_name = 'state', value_name = 'tfp')\n",
    "\n",
    "agr = agr.drop([0,1], axis = 0)\n",
    "display(agr.head)"
   ]
  },
  {
   "cell_type": "markdown",
   "id": "7e8f6fdd",
   "metadata": {},
   "source": [
    "Now we read in data on storm events. This data is spread over multiple csv files, one for each year, so we will have to read each csv file and append it to our main dataframe. \n",
    "We will do this by reading one csv file into a dataframe at a time, and extracting only the columns we need. These are the state, year, and crop damage columns.\n",
    "\n",
    "In addition, as there are many, many storm entries in this dataset, we will only take the top 500 ones from each year in terms of crop damage. \n",
    "\n",
    "We will create a function be applied to each dataframe where this happens. "
   ]
  },
  {
   "cell_type": "code",
   "execution_count": 37,
   "id": "90751dcc",
   "metadata": {},
   "outputs": [],
   "source": [
    "def clean(df): \n",
    "    df = df[['YEAR', 'STATE', 'STATE_FIPS', 'CZ_FIPS', 'DAMAGE_CROPS']]\n",
    "    \n",
    "    df = df.sort_values('DAMAGE_CROPS').head(500)\n",
    "    \n",
    "    df['STATE_FIPS'] = df['STATE_FIPS'].astype(str)\n",
    "    df['CZ_FIPS'] = df['CZ_FIPS'].astype(str)\n",
    "    \n",
    "    for i, row in df.iterrows():\n",
    "        st = row['STATE_FIPS']\n",
    "        while len(st) < 2:\n",
    "            st = '0' + st\n",
    "        \n",
    "        cz = row['CZ_FIPS']\n",
    "        while len(cz) < 3:\n",
    "            cz = '0' + cz\n",
    "            \n",
    "        fips = st + cz\n",
    "        df.loc[i, 'CZ_FIPS'] = fips     \n",
    "\n",
    "    return df"
   ]
  },
  {
   "cell_type": "code",
   "execution_count": 23,
   "id": "e4bcd6b0",
   "metadata": {
    "scrolled": true
   },
   "outputs": [
    {
     "data": {
      "text/html": [
       "<div>\n",
       "<style scoped>\n",
       "    .dataframe tbody tr th:only-of-type {\n",
       "        vertical-align: middle;\n",
       "    }\n",
       "\n",
       "    .dataframe tbody tr th {\n",
       "        vertical-align: top;\n",
       "    }\n",
       "\n",
       "    .dataframe thead th {\n",
       "        text-align: right;\n",
       "    }\n",
       "</style>\n",
       "<table border=\"1\" class=\"dataframe\">\n",
       "  <thead>\n",
       "    <tr style=\"text-align: right;\">\n",
       "      <th></th>\n",
       "      <th>YEAR</th>\n",
       "      <th>STATE</th>\n",
       "      <th>FIPS</th>\n",
       "      <th>DAMAGE_CROPS</th>\n",
       "    </tr>\n",
       "  </thead>\n",
       "  <tbody>\n",
       "    <tr>\n",
       "      <th>0</th>\n",
       "      <td>1960</td>\n",
       "      <td>NEBRASKA</td>\n",
       "      <td>31121</td>\n",
       "      <td>0</td>\n",
       "    </tr>\n",
       "    <tr>\n",
       "      <th>1303</th>\n",
       "      <td>1960</td>\n",
       "      <td>SOUTH DAKOTA</td>\n",
       "      <td>46059</td>\n",
       "      <td>0</td>\n",
       "    </tr>\n",
       "    <tr>\n",
       "      <th>1302</th>\n",
       "      <td>1960</td>\n",
       "      <td>SOUTH DAKOTA</td>\n",
       "      <td>46055</td>\n",
       "      <td>0</td>\n",
       "    </tr>\n",
       "    <tr>\n",
       "      <th>1301</th>\n",
       "      <td>1960</td>\n",
       "      <td>SOUTH DAKOTA</td>\n",
       "      <td>46007</td>\n",
       "      <td>0</td>\n",
       "    </tr>\n",
       "    <tr>\n",
       "      <th>1300</th>\n",
       "      <td>1960</td>\n",
       "      <td>SOUTH DAKOTA</td>\n",
       "      <td>46103</td>\n",
       "      <td>0</td>\n",
       "    </tr>\n",
       "  </tbody>\n",
       "</table>\n",
       "</div>"
      ],
      "text/plain": [
       "      YEAR         STATE   FIPS DAMAGE_CROPS\n",
       "0     1960      NEBRASKA  31121            0\n",
       "1303  1960  SOUTH DAKOTA  46059            0\n",
       "1302  1960  SOUTH DAKOTA  46055            0\n",
       "1301  1960  SOUTH DAKOTA  46007            0\n",
       "1300  1960  SOUTH DAKOTA  46103            0"
      ]
     },
     "metadata": {},
     "output_type": "display_data"
    },
    {
     "data": {
      "text/html": [
       "<div>\n",
       "<style scoped>\n",
       "    .dataframe tbody tr th:only-of-type {\n",
       "        vertical-align: middle;\n",
       "    }\n",
       "\n",
       "    .dataframe tbody tr th {\n",
       "        vertical-align: top;\n",
       "    }\n",
       "\n",
       "    .dataframe thead th {\n",
       "        text-align: right;\n",
       "    }\n",
       "</style>\n",
       "<table border=\"1\" class=\"dataframe\">\n",
       "  <thead>\n",
       "    <tr style=\"text-align: right;\">\n",
       "      <th></th>\n",
       "      <th>YEAR</th>\n",
       "      <th>STATE</th>\n",
       "      <th>FIPS</th>\n",
       "      <th>DAMAGE_CROPS</th>\n",
       "    </tr>\n",
       "  </thead>\n",
       "  <tbody>\n",
       "    <tr>\n",
       "      <th>2701</th>\n",
       "      <td>2023</td>\n",
       "      <td>CALIFORNIA</td>\n",
       "      <td>06019</td>\n",
       "      <td>0.00K</td>\n",
       "    </tr>\n",
       "    <tr>\n",
       "      <th>2702</th>\n",
       "      <td>2023</td>\n",
       "      <td>CALIFORNIA</td>\n",
       "      <td>06019</td>\n",
       "      <td>0.00K</td>\n",
       "    </tr>\n",
       "    <tr>\n",
       "      <th>2703</th>\n",
       "      <td>2023</td>\n",
       "      <td>CALIFORNIA</td>\n",
       "      <td>06039</td>\n",
       "      <td>0.00K</td>\n",
       "    </tr>\n",
       "    <tr>\n",
       "      <th>2704</th>\n",
       "      <td>2023</td>\n",
       "      <td>CALIFORNIA</td>\n",
       "      <td>06107</td>\n",
       "      <td>0.00K</td>\n",
       "    </tr>\n",
       "    <tr>\n",
       "      <th>2705</th>\n",
       "      <td>2023</td>\n",
       "      <td>CALIFORNIA</td>\n",
       "      <td>06029</td>\n",
       "      <td>0.00K</td>\n",
       "    </tr>\n",
       "  </tbody>\n",
       "</table>\n",
       "</div>"
      ],
      "text/plain": [
       "      YEAR       STATE   FIPS DAMAGE_CROPS\n",
       "2701  2023  CALIFORNIA  06019        0.00K\n",
       "2702  2023  CALIFORNIA  06019        0.00K\n",
       "2703  2023  CALIFORNIA  06039        0.00K\n",
       "2704  2023  CALIFORNIA  06107        0.00K\n",
       "2705  2023  CALIFORNIA  06029        0.00K"
      ]
     },
     "metadata": {},
     "output_type": "display_data"
    }
   ],
   "source": [
    "warnings.filterwarnings('ignore')\n",
    "\n",
    "paths = pathc + 'Storm/'\n",
    "\n",
    "storms = pd.DataFrame()\n",
    "\n",
    "for file in os.listdir(paths):\n",
    "    if file.endswith(\".gz\"):\n",
    "        df = pd.read_csv(paths + file, compression='gzip')\n",
    "        df = clean(df)\n",
    "    storms = pd.concat([storms, df])\n",
    "\n",
    "storms = storms.drop('STATE_FIPS', axis = 1)\n",
    "storms = storms.rename(columns = {'CZ_FIPS':'FIPS'})\n",
    "\n",
    "display(storms.head(5))\n",
    "display(storms.tail(5))"
   ]
  },
  {
   "cell_type": "code",
   "execution_count": 22,
   "id": "376ad89a",
   "metadata": {},
   "outputs": [
    {
     "data": {
      "text/html": [
       "<div>\n",
       "<style scoped>\n",
       "    .dataframe tbody tr th:only-of-type {\n",
       "        vertical-align: middle;\n",
       "    }\n",
       "\n",
       "    .dataframe tbody tr th {\n",
       "        vertical-align: top;\n",
       "    }\n",
       "\n",
       "    .dataframe thead th {\n",
       "        text-align: right;\n",
       "    }\n",
       "</style>\n",
       "<table border=\"1\" class=\"dataframe\">\n",
       "  <thead>\n",
       "    <tr style=\"text-align: right;\">\n",
       "      <th></th>\n",
       "      <th>YEAR</th>\n",
       "      <th>STATE</th>\n",
       "      <th>FIPS</th>\n",
       "      <th>DAMAGE_CROPS</th>\n",
       "    </tr>\n",
       "  </thead>\n",
       "  <tbody>\n",
       "    <tr>\n",
       "      <th>0</th>\n",
       "      <td>1960</td>\n",
       "      <td>NEBRASKA</td>\n",
       "      <td>31121</td>\n",
       "      <td>0</td>\n",
       "    </tr>\n",
       "    <tr>\n",
       "      <th>1303</th>\n",
       "      <td>1960</td>\n",
       "      <td>SOUTH DAKOTA</td>\n",
       "      <td>46059</td>\n",
       "      <td>0</td>\n",
       "    </tr>\n",
       "    <tr>\n",
       "      <th>1302</th>\n",
       "      <td>1960</td>\n",
       "      <td>SOUTH DAKOTA</td>\n",
       "      <td>46055</td>\n",
       "      <td>0</td>\n",
       "    </tr>\n",
       "    <tr>\n",
       "      <th>1301</th>\n",
       "      <td>1960</td>\n",
       "      <td>SOUTH DAKOTA</td>\n",
       "      <td>46007</td>\n",
       "      <td>0</td>\n",
       "    </tr>\n",
       "    <tr>\n",
       "      <th>1300</th>\n",
       "      <td>1960</td>\n",
       "      <td>SOUTH DAKOTA</td>\n",
       "      <td>46103</td>\n",
       "      <td>0</td>\n",
       "    </tr>\n",
       "  </tbody>\n",
       "</table>\n",
       "</div>"
      ],
      "text/plain": [
       "      YEAR         STATE   FIPS DAMAGE_CROPS\n",
       "0     1960      NEBRASKA  31121            0\n",
       "1303  1960  SOUTH DAKOTA  46059            0\n",
       "1302  1960  SOUTH DAKOTA  46055            0\n",
       "1301  1960  SOUTH DAKOTA  46007            0\n",
       "1300  1960  SOUTH DAKOTA  46103            0"
      ]
     },
     "metadata": {},
     "output_type": "display_data"
    },
    {
     "data": {
      "text/html": [
       "<div>\n",
       "<style scoped>\n",
       "    .dataframe tbody tr th:only-of-type {\n",
       "        vertical-align: middle;\n",
       "    }\n",
       "\n",
       "    .dataframe tbody tr th {\n",
       "        vertical-align: top;\n",
       "    }\n",
       "\n",
       "    .dataframe thead th {\n",
       "        text-align: right;\n",
       "    }\n",
       "</style>\n",
       "<table border=\"1\" class=\"dataframe\">\n",
       "  <thead>\n",
       "    <tr style=\"text-align: right;\">\n",
       "      <th></th>\n",
       "      <th>YEAR</th>\n",
       "      <th>STATE</th>\n",
       "      <th>FIPS</th>\n",
       "      <th>DAMAGE_CROPS</th>\n",
       "    </tr>\n",
       "  </thead>\n",
       "  <tbody>\n",
       "    <tr>\n",
       "      <th>2701</th>\n",
       "      <td>2023</td>\n",
       "      <td>CALIFORNIA</td>\n",
       "      <td>06019</td>\n",
       "      <td>0.00K</td>\n",
       "    </tr>\n",
       "    <tr>\n",
       "      <th>2702</th>\n",
       "      <td>2023</td>\n",
       "      <td>CALIFORNIA</td>\n",
       "      <td>06019</td>\n",
       "      <td>0.00K</td>\n",
       "    </tr>\n",
       "    <tr>\n",
       "      <th>2703</th>\n",
       "      <td>2023</td>\n",
       "      <td>CALIFORNIA</td>\n",
       "      <td>06039</td>\n",
       "      <td>0.00K</td>\n",
       "    </tr>\n",
       "    <tr>\n",
       "      <th>2704</th>\n",
       "      <td>2023</td>\n",
       "      <td>CALIFORNIA</td>\n",
       "      <td>06107</td>\n",
       "      <td>0.00K</td>\n",
       "    </tr>\n",
       "    <tr>\n",
       "      <th>2705</th>\n",
       "      <td>2023</td>\n",
       "      <td>CALIFORNIA</td>\n",
       "      <td>06029</td>\n",
       "      <td>0.00K</td>\n",
       "    </tr>\n",
       "  </tbody>\n",
       "</table>\n",
       "</div>"
      ],
      "text/plain": [
       "      YEAR       STATE   FIPS DAMAGE_CROPS\n",
       "2701  2023  CALIFORNIA  06019        0.00K\n",
       "2702  2023  CALIFORNIA  06019        0.00K\n",
       "2703  2023  CALIFORNIA  06039        0.00K\n",
       "2704  2023  CALIFORNIA  06107        0.00K\n",
       "2705  2023  CALIFORNIA  06029        0.00K"
      ]
     },
     "metadata": {},
     "output_type": "display_data"
    }
   ],
   "source": [
    "# storms = storms.drop('STATE_FIPS', axis = 1)\n",
    "# storms = storms.rename(columns = {'CZ_FIPS':'FIPS'})\n",
    "    \n",
    "display(storms.head(5))\n",
    "display(storms.tail(5))"
   ]
  },
  {
   "cell_type": "markdown",
   "id": "1c0000b5",
   "metadata": {},
   "source": [
    "## Exploratory Data Analysis and Visualization\n",
    "\n",
    "\n",
    "### Visualizing trend in temperature\n",
    "\n",
    "We will first look at the trends in temperature for the nation as a whole. "
   ]
  },
  {
   "cell_type": "code",
   "execution_count": 45,
   "id": "e6b741d8",
   "metadata": {},
   "outputs": [
    {
     "data": {
      "text/html": [
       "<div>\n",
       "<style scoped>\n",
       "    .dataframe tbody tr th:only-of-type {\n",
       "        vertical-align: middle;\n",
       "    }\n",
       "\n",
       "    .dataframe tbody tr th {\n",
       "        vertical-align: top;\n",
       "    }\n",
       "\n",
       "    .dataframe thead th {\n",
       "        text-align: right;\n",
       "    }\n",
       "</style>\n",
       "<table border=\"1\" class=\"dataframe\">\n",
       "  <thead>\n",
       "    <tr style=\"text-align: right;\">\n",
       "      <th></th>\n",
       "      <th>year</th>\n",
       "      <th>temp</th>\n",
       "    </tr>\n",
       "  </thead>\n",
       "  <tbody>\n",
       "    <tr>\n",
       "      <th>0</th>\n",
       "      <td>1960</td>\n",
       "      <td>52.804898</td>\n",
       "    </tr>\n",
       "    <tr>\n",
       "      <th>1</th>\n",
       "      <td>1961</td>\n",
       "      <td>53.329455</td>\n",
       "    </tr>\n",
       "    <tr>\n",
       "      <th>2</th>\n",
       "      <td>1962</td>\n",
       "      <td>53.406649</td>\n",
       "    </tr>\n",
       "    <tr>\n",
       "      <th>3</th>\n",
       "      <td>1963</td>\n",
       "      <td>53.476810</td>\n",
       "    </tr>\n",
       "    <tr>\n",
       "      <th>4</th>\n",
       "      <td>1964</td>\n",
       "      <td>53.807950</td>\n",
       "    </tr>\n",
       "  </tbody>\n",
       "</table>\n",
       "</div>"
      ],
      "text/plain": [
       "   year       temp\n",
       "0  1960  52.804898\n",
       "1  1961  53.329455\n",
       "2  1962  53.406649\n",
       "3  1963  53.476810\n",
       "4  1964  53.807950"
      ]
     },
     "metadata": {},
     "output_type": "display_data"
    }
   ],
   "source": [
    "temp_avg = temp[['year', 'temp']]\n",
    "temp_avg = temp_avg.groupby('year', as_index = False).mean()\n",
    "display(temp_avg.head(5))"
   ]
  },
  {
   "cell_type": "code",
   "execution_count": 47,
   "id": "1650665d",
   "metadata": {},
   "outputs": [
    {
     "data": {
      "text/plain": [
       "Text(0, 0.5, 'Average temperature (in degrees Fahrenheit)')"
      ]
     },
     "execution_count": 47,
     "metadata": {},
     "output_type": "execute_result"
    },
    {
     "data": {
      "image/png": "[encoded data removed]",
      "text/plain": [
       "<Figure size 640x480 with 1 Axes>"
      ]
     },
     "metadata": {},
     "output_type": "display_data"
    }
   ],
   "source": [
    "sns.regplot(data = temp_avg, x = 'year', y = 'temp')\n",
    "plt.title(\"Average temperature across states over time\")\n",
    "plt.xlabel(\"Year\")\n",
    "plt.ylabel(\"Average temperature (in degrees Fahrenheit)\")"
   ]
  },
  {
   "cell_type": "markdown",
   "id": "4b648387",
   "metadata": {},
   "source": [
    "From the plot, we can can see that there is an upward trend in the average temperature of the United States. \n",
    "We can also visualize the trends in agricultural TFP averaged across all the states. "
   ]
  },
  {
   "cell_type": "markdown",
   "id": "1cc2bdb3",
   "metadata": {},
   "source": [
    "### Visualizing trend in TFP\n",
    "\n",
    "Now we will look at how TFP has increased over time in the United States. This will be done by averaging the TFP across all states for each year and plotting them against years. "
   ]
  },
  {
   "cell_type": "code",
   "execution_count": 10,
   "id": "28c24cf6",
   "metadata": {},
   "outputs": [
    {
     "data": {
      "text/plain": [
       "Text(0, 0.5, 'Average TFP')"
      ]
     },
     "execution_count": 10,
     "metadata": {},
     "output_type": "execute_result"
    },
    {
     "data": {
      "image/png": "[encoded data removed]",
      "text/plain": [
       "<Figure size 640x480 with 1 Axes>"
      ]
     },
     "metadata": {},
     "output_type": "display_data"
    }
   ],
   "source": [
    "agr_avg = agr[['Year', 'tfp']]\n",
    "agr_avg = agr.groupby('Year', as_index = False).mean('tfp')\n",
    "\n",
    "sns.regplot(data = agr_avg, x = 'Year', y = 'tfp')\n",
    "plt.title(\"Average TFP across states over time\")\n",
    "plt.xlabel(\"Year\")\n",
    "plt.ylabel(\"Average TFP\") "
   ]
  },
  {
   "cell_type": "markdown",
   "id": "65a08d71",
   "metadata": {},
   "source": [
    "We see that average TFP across the nation increases over time, which is to be expected as farming practices become more efficient. \n",
    "\n",
    "### Visualizing trend in storm data\n",
    "\n",
    "We will now get a better idea of the trends in storm data. First, we will look at how many storms hit each state over this time frame. "
   ]
  },
  {
   "cell_type": "code",
   "execution_count": 31,
   "id": "7f559cc0",
   "metadata": {},
   "outputs": [
    {
     "data": {
      "text/html": [
       "<div>\n",
       "<style scoped>\n",
       "    .dataframe tbody tr th:only-of-type {\n",
       "        vertical-align: middle;\n",
       "    }\n",
       "\n",
       "    .dataframe tbody tr th {\n",
       "        vertical-align: top;\n",
       "    }\n",
       "\n",
       "    .dataframe thead th {\n",
       "        text-align: right;\n",
       "    }\n",
       "</style>\n",
       "<table border=\"1\" class=\"dataframe\">\n",
       "  <thead>\n",
       "    <tr style=\"text-align: right;\">\n",
       "      <th></th>\n",
       "      <th>state</th>\n",
       "      <th>num_storms</th>\n",
       "    </tr>\n",
       "  </thead>\n",
       "  <tbody>\n",
       "    <tr>\n",
       "      <th>56</th>\n",
       "      <td>TEXAS</td>\n",
       "      <td>3668</td>\n",
       "    </tr>\n",
       "    <tr>\n",
       "      <th>21</th>\n",
       "      <td>KANSAS</td>\n",
       "      <td>2164</td>\n",
       "    </tr>\n",
       "    <tr>\n",
       "      <th>20</th>\n",
       "      <td>IOWA</td>\n",
       "      <td>2151</td>\n",
       "    </tr>\n",
       "    <tr>\n",
       "      <th>47</th>\n",
       "      <td>OKLAHOMA</td>\n",
       "      <td>1820</td>\n",
       "    </tr>\n",
       "    <tr>\n",
       "      <th>19</th>\n",
       "      <td>INDIANA</td>\n",
       "      <td>1538</td>\n",
       "    </tr>\n",
       "    <tr>\n",
       "      <th>...</th>\n",
       "      <td>...</td>\n",
       "      <td>...</td>\n",
       "    </tr>\n",
       "    <tr>\n",
       "      <th>27</th>\n",
       "      <td>LAKE ST CLAIR</td>\n",
       "      <td>5</td>\n",
       "    </tr>\n",
       "    <tr>\n",
       "      <th>2</th>\n",
       "      <td>AMERICAN SAMOA</td>\n",
       "      <td>2</td>\n",
       "    </tr>\n",
       "    <tr>\n",
       "      <th>54</th>\n",
       "      <td>ST LAWRENCE R</td>\n",
       "      <td>2</td>\n",
       "    </tr>\n",
       "    <tr>\n",
       "      <th>14</th>\n",
       "      <td>GUAM</td>\n",
       "      <td>1</td>\n",
       "    </tr>\n",
       "    <tr>\n",
       "      <th>23</th>\n",
       "      <td>Kentucky</td>\n",
       "      <td>1</td>\n",
       "    </tr>\n",
       "  </tbody>\n",
       "</table>\n",
       "<p>64 rows × 2 columns</p>\n",
       "</div>"
      ],
      "text/plain": [
       "             state  num_storms\n",
       "56           TEXAS        3668\n",
       "21          KANSAS        2164\n",
       "20            IOWA        2151\n",
       "47        OKLAHOMA        1820\n",
       "19         INDIANA        1538\n",
       "..             ...         ...\n",
       "27   LAKE ST CLAIR           5\n",
       "2   AMERICAN SAMOA           2\n",
       "54   ST LAWRENCE R           2\n",
       "14            GUAM           1\n",
       "23        Kentucky           1\n",
       "\n",
       "[64 rows x 2 columns]"
      ]
     },
     "metadata": {},
     "output_type": "display_data"
    }
   ],
   "source": [
    "states = np.unique(storms['STATE'])\n",
    "n_storms = [0] * len(states)\n",
    "\n",
    "state_count = pd.DataFrame(columns = ['state','num_storms'])\n",
    "\n",
    "i = 0\n",
    "# Getting the number of storms that hit each state.\n",
    "for state in states:\n",
    "    num_events = len(storms[storms['STATE'] == state])\n",
    "    n_storms[i] = num_events\n",
    "    i = i + 1\n",
    "\n",
    "state_count['state'] = states\n",
    "state_count['num_storms'] = n_storms\n",
    "\n",
    "state_count = state_count.sort_values('num_storms', ascending = False)\n",
    "\n",
    "display(state_count)"
   ]
  },
  {
   "cell_type": "code",
   "execution_count": 34,
   "id": "68f63a53",
   "metadata": {},
   "outputs": [
    {
     "data": {
      "text/plain": [
       "(array([ 0,  1,  2,  3,  4,  5,  6,  7,  8,  9, 10, 11, 12, 13, 14, 15, 16,\n",
       "        17, 18, 19]),\n",
       " [Text(0, 0, 'TEXAS'),\n",
       "  Text(1, 0, 'KANSAS'),\n",
       "  Text(2, 0, 'IOWA'),\n",
       "  Text(3, 0, 'OKLAHOMA'),\n",
       "  Text(4, 0, 'INDIANA'),\n",
       "  Text(5, 0, 'ILLINOIS'),\n",
       "  Text(6, 0, 'FLORIDA'),\n",
       "  Text(7, 0, 'SOUTH DAKOTA'),\n",
       "  Text(8, 0, 'WISCONSIN'),\n",
       "  Text(9, 0, 'GEORGIA'),\n",
       "  Text(10, 0, 'VIRGINIA'),\n",
       "  Text(11, 0, 'NEBRASKA'),\n",
       "  Text(12, 0, 'PENNSYLVANIA'),\n",
       "  Text(13, 0, 'OHIO'),\n",
       "  Text(14, 0, 'NORTH CAROLINA'),\n",
       "  Text(15, 0, 'WYOMING'),\n",
       "  Text(16, 0, 'ARKANSAS'),\n",
       "  Text(17, 0, 'KENTUCKY'),\n",
       "  Text(18, 0, 'TENNESSEE'),\n",
       "  Text(19, 0, 'COLORADO')])"
      ]
     },
     "execution_count": 34,
     "metadata": {},
     "output_type": "execute_result"
    },
    {
     "data": {
      "image/png": "[encoded data removed]",
      "text/plain": [
       "<Figure size 640x480 with 1 Axes>"
      ]
     },
     "metadata": {},
     "output_type": "display_data"
    }
   ],
   "source": [
    "sns.barplot(data = state_count.head(20), x = 'state', y = 'num_storms')\n",
    "plt.title(\"Number of storms for each U.S. state from 1960 to May 2023\")\n",
    "plt.xlabel(\"State\")\n",
    "plt.ylabel(\"Number of Storms\")\n",
    "plt.xticks(rotation=90)"
   ]
  },
  {
   "cell_type": "markdown",
   "id": "5e8c2096",
   "metadata": {},
   "source": [
    "From this, we see that it appears that Texas is the state that is most commonly hit by storms. This is followed by other states in and around the midwest, including Kansas, Iowa, Oklahoma, and Indiana. One thing to note is that these only include the top 500 storms per year by crop damage, so this is not necessarily an accurate representation how much states are hit by storms in general. However, they do give us an idea of which states have to deal with agricultural losses due to storms more than other states. "
   ]
  },
  {
   "cell_type": "code",
   "execution_count": null,
   "id": "67fd0fc0",
   "metadata": {},
   "outputs": [],
   "source": []
  }
 ],
 "metadata": {
  "kernelspec": {
   "display_name": "Python 3 (ipykernel)",
   "language": "python",
   "name": "python3"
  },
  "language_info": {
   "codemirror_mode": {
    "name": "ipython",
    "version": 3
   },
   "file_extension": ".py",
   "mimetype": "text/x-python",
   "name": "python",
   "nbconvert_exporter": "python",
   "pygments_lexer": "ipython3",
   "version": "3.9.13"
  }
 },
 "nbformat": 4,
 "nbformat_minor": 5
}
